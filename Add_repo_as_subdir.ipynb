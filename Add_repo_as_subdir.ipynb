{
  "metadata": {
    "kernelspec": {
      "name": "python",
      "display_name": "Python (Pyodide)",
      "language": "python"
    },
    "language_info": {
      "codemirror_mode": {
        "name": "python",
        "version": 3
      },
      "file_extension": ".py",
      "mimetype": "text/x-python",
      "name": "python",
      "nbconvert_exporter": "python",
      "pygments_lexer": "ipython3",
      "version": "3.8"
    }
  },
  "nbformat_minor": 4,
  "nbformat": 4,
  "cells": [
    {
      "cell_type": "markdown",
      "source": "Including an existing git repo as a subfolder of the current repo, including its history",
      "metadata": {}
    },
    {
      "cell_type": "markdown",
      "source": "    git remote add course07 https://github.com/pastojar/IBM_DataAnalysis_final_project\n    git fetch course07\n    git switch main\n    git subtree add --prefix=07_DataAnalysis course07/main'    ",
      "metadata": {}
    }
  ]
}